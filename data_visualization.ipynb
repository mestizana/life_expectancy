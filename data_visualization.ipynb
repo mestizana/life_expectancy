{
 "cells": [
  {
   "cell_type": "markdown",
   "id": "ac430d5f",
   "metadata": {},
   "source": [
    "# Step 1\n",
    "\n",
    "## Open empty jupyter notebook and read in the dataframe that contains your gapminder data"
   ]
  },
  {
   "cell_type": "code",
   "execution_count": 1,
   "id": "35c1c465",
   "metadata": {},
   "outputs": [],
   "source": [
    "import pandas as pd\n",
    "import matplotlib.pyplot as plt\n",
    "import seaborn as sns\n",
    "import imageio"
   ]
  },
  {
   "cell_type": "code",
   "execution_count": 2,
   "id": "f1249a08",
   "metadata": {},
   "outputs": [],
   "source": [
    "df = pd.read_csv('../data/gapminder_total.csv', index_col=0)\n",
    "df"
   ]
  },
  {
   "cell_type": "markdown",
   "id": "96fc9669",
   "metadata": {},
   "source": [
    "# Step 2\n",
    "## Create subset of data for one year"
   ]
  },
  {
   "cell_type": "code",
   "execution_count": 3,
   "id": "e1e4a001",
   "metadata": {},
   "outputs": [],
   "source": [
    "df_subset = df[df['year'] == 1950]\n",
    "df_subset"
   ]
  },
  {
   "cell_type": "markdown",
   "id": "6ddf2b07",
   "metadata": {},
   "source": [
    "# Step 4\n",
    "## Plot the life expectancy vs fertility rate"
   ]
  },
  {
   "cell_type": "code",
   "execution_count": 4,
   "id": "90f9becf",
   "metadata": {},
   "outputs": [],
   "source": [
    "sns.scatterplot(x='fertility', y='life expectancy', data=df_subset , color = 'red')"
   ]
  },
  {
   "cell_type": "markdown",
   "id": "96f261c0",
   "metadata": {},
   "source": [
    "# Step 5\n",
    "## Using matplotlib add a title and labels. Increase the plot size to make it more readable."
   ]
  },
  {
   "cell_type": "code",
   "execution_count": 5,
   "id": "eb5c586d",
   "metadata": {},
   "outputs": [],
   "source": [
    "plt.figure(figsize=(8, 4))\n",
    "\n",
    "sns.scatterplot(x='fertility', y='life expectancy', data=df_subset , color = 'red')\n",
    "\n",
    "plt.title('Life Expectancy vs Fertility Rate')\n",
    "plt.ylabel('Fertility')\n",
    "plt.xlabel('Life Expectancy');\n"
   ]
  },
  {
   "cell_type": "code",
   "execution_count": 6,
   "id": "c9b64645",
   "metadata": {},
   "outputs": [],
   "source": [
    "plt.figure(figsize=(8, 4))\n",
    "sns.scatterplot(x='fertility', y='life expectancy', data=df_subset , hue='continent'\n",
    "               ).set(title='Life Expectancy vs Fertility Rate');"
   ]
  },
  {
   "cell_type": "markdown",
   "id": "00e8884e",
   "metadata": {},
   "source": [
    "# Step 6\n",
    "## Weight the size of the scatter points to the population of each country. This can be done using the size parameter in the sns.scatterplot() function.\n",
    "\n",
    "## Tip: the code above is correct but the magnitude of the population is astronomically larger than that of the life expectancy and fertility rate. Use some math to fix this.\n",
    "\n"
   ]
  },
  {
   "cell_type": "code",
   "execution_count": 7,
   "id": "0404ca1c",
   "metadata": {},
   "outputs": [],
   "source": [
    "plt.subplots(figsize=(8,6))\n",
    "g = sns.scatterplot(x='life expectancy', y='fertility', data=df_subset, hue='continent',\n",
    "               palette='magma_r', \n",
    "               style='continent', alpha = 0.5, size='population', sizes=(15, 325)).set(title='World\\'s Life Expectancy vs Fertility Rate 1950');\n",
    "plt.legend(loc='lower left',frameon= False, fontsize=8)\n",
    "\n",
    "sns.set_style(\"darkgrid\")\n",
    "\n",
    "\n",
    "plt.annotate('Brazil',(df_subset[df_subset['country']==\"Brazil\"]['life expectancy'],    # these are coordinates for x\n",
    "                      df_subset[df_subset['country']==\"Brazil\"]['fertility']+0.20));\n",
    "plt.annotate('India',(df_subset[df_subset['country']==\"India\"]['life expectancy'],    # these are coordinates for x\n",
    "                      df_subset[df_subset['country']==\"India\"]['fertility']+0.20));\n",
    "plt.annotate('Zambia',(df_subset[df_subset['country']==\"Zambia\"]['life expectancy'],    # these are coordinates for x\n",
    "                      df_subset[df_subset['country']==\"Zambia\"]['fertility']+0.20));\n",
    "plt.annotate('New Zealand',(df_subset[df_subset['country']==\"New Zealand\"]['life expectancy'],    # these are coordinates for x\n",
    "                      df_subset[df_subset['country']==\"New Zealand\"]['fertility']+0.20));\n",
    "plt.annotate('Italy',(df_subset[df_subset['country']==\"Italy\"]['life expectancy'],    # these are coordinates for x\n",
    "                      df_subset[df_subset['country']==\"Italy\"]['fertility']+0.20));\n",
    "\n",
    "\n",
    "plt.xticks(rotation=45);\n",
    "\n"
   ]
  },
  {
   "cell_type": "code",
   "execution_count": 8,
   "id": "95b170a6",
   "metadata": {},
   "outputs": [],
   "source": [
    "PATH =(f'../images')\n",
    "for year in range(1950, 2017):\n",
    "    df_r = df[df['year']==year]\n",
    "\n",
    "    plt.subplots(figsize=(8,6))\n",
    "    g = sns.scatterplot(x='life expectancy', y='fertility', data=df_r, hue='continent',\n",
    "               palette='magma_r', \n",
    "               style='continent', alpha = 0.5, size='population', sizes=(15, 325)).set(title='World\\'s Life Expectancy vs Fertility Rate (1950-2016)');\n",
    "    plt.legend(loc='lower left',frameon= False, fontsize=8)\n",
    "\n",
    "    sns.set_style(\"darkgrid\")\n",
    "\n",
    "\n",
    "    plt.annotate('Brazil',(df_subset[df_subset['country']==\"Brazil\"]['life expectancy'],    # these are coordinates for x\n",
    "                      df_subset[df_subset['country']==\"Brazil\"]['fertility']+0.20));\n",
    "    plt.annotate('India',(df_subset[df_subset['country']==\"India\"]['life expectancy'],    # these are coordinates for x\n",
    "                      df_subset[df_subset['country']==\"India\"]['fertility']+0.20));\n",
    "    plt.annotate('Zambia',(df_subset[df_subset['country']==\"Zambia\"]['life expectancy'],    # these are coordinates for x\n",
    "                      df_subset[df_subset['country']==\"Zambia\"]['fertility']+0.20));\n",
    "    plt.annotate('New Zealand',(df_subset[df_subset['country']==\"New Zealand\"]['life expectancy'],    # these are coordinates for x\n",
    "                      df_subset[df_subset['country']==\"New Zealand\"]['fertility']+0.20));\n",
    "    plt.annotate('Italy',(df_subset[df_subset['country']==\"Italy\"]['life expectancy'],    # these are coordinates for x\n",
    "                      df_subset[df_subset['country']==\"Italy\"]['fertility']+0.20));\n",
    "\n",
    "\n",
    "    plt.xticks(rotation=45);\n",
    "    \n",
    "    filename = f'plot_{year}.png'\n",
    "    plt.savefig(f'{PATH}/plot_{year}.png', dpi=90)\n",
    "    plt.close()\n",
    "\n",
    "    "
   ]
  },
  {
   "cell_type": "code",
   "execution_count": 9,
   "id": "234c3238",
   "metadata": {},
   "outputs": [],
   "source": [
    "images = []\n",
    "\n",
    "for year in range(1950, 2017):\n",
    "    filename = f'../images/plot_{year}.png'\n",
    "    images.append(imageio.imread(filename))\n",
    "\n",
    "    imageio.mimsave('my_progression.gif', images, duration=8)"
   ]
  },
  {
   "cell_type": "code",
   "execution_count": 10,
   "id": "78d6ec89",
   "metadata": {},
   "outputs": [],
   "source": [
    "from IPython.display import Image\n",
    "Image(filename='my_progression.gif')"
   ]
  },
  {
   "cell_type": "markdown",
   "id": "25a58acd",
   "metadata": {},
   "source": [
    "# Histogram"
   ]
  },
  {
   "cell_type": "code",
   "execution_count": 11,
   "id": "0555cfe2",
   "metadata": {},
   "outputs": [],
   "source": [
    "PATH =(f'../images')\n",
    "for year in range(1950, 2017):\n",
    "    df_r = df[df['year']==year]\n",
    "\n",
    "    plt.subplots(figsize=(12,10))\n",
    "    sns.histplot(data= df_r, x=\"population\", y = \"continent\", hue='continent', bins=5)\n",
    "\n",
    "\n",
    "# set the x and y labels\n",
    "    plt.xlabel(\"Population\")\n",
    "    plt.ylabel(\"Continent\")\n",
    "\n",
    "\n",
    "\n",
    "    plt.xticks(rotation=45);\n",
    "    \n",
    "    filename = f'plot_{year}.png'\n",
    "    plt.savefig(f'{PATH}/plot_{year}.png', dpi=90)\n",
    "    plt.close()\n",
    "\n"
   ]
  },
  {
   "cell_type": "code",
   "execution_count": 12,
   "id": "73be5580",
   "metadata": {},
   "outputs": [],
   "source": [
    "images = []\n",
    "\n",
    "for year in range(1950, 2017):\n",
    "    filename = f'../images/plot_{year}.png'\n",
    "    images.append(imageio.imread(filename))\n",
    "\n",
    "    imageio.mimsave('second_progression.gif', images, duration=8)"
   ]
  },
  {
   "cell_type": "code",
   "execution_count": 13,
   "id": "63027a3a",
   "metadata": {},
   "outputs": [],
   "source": [
    "from IPython.display import Image\n",
    "Image(filename='second_progression.gif')"
   ]
  },
  {
   "cell_type": "code",
   "execution_count": null,
   "id": "05b50364",
   "metadata": {},
   "outputs": [],
   "source": []
  }
 ],
 "metadata": {
  "kernelspec": {
   "display_name": "Python 3 (ipykernel)",
   "language": "python",
   "name": "python3"
  },
  "language_info": {
   "codemirror_mode": {
    "name": "ipython",
    "version": 3
   },
   "file_extension": ".py",
   "mimetype": "text/x-python",
   "name": "python",
   "nbconvert_exporter": "python",
   "pygments_lexer": "ipython3",
   "version": "3.10.9"
  }
 },
 "nbformat": 4,
 "nbformat_minor": 5
}
